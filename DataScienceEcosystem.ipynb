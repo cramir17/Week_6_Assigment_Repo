{
 "cells": [
  {
   "cell_type": "markdown",
   "id": "1e5d1b2d",
   "metadata": {},
   "source": [
    "# Data Science Tools and Ecosystem"
   ]
  },
  {
   "cell_type": "markdown",
   "id": "96ea5db0",
   "metadata": {},
   "source": [
    "In this notebook, Data Science Tools and Ecosystem are summarized."
   ]
  },
  {
   "cell_type": "markdown",
   "id": "a67483f4",
   "metadata": {},
   "source": [
    "Most commonly used languages for data science:\n",
    "\n",
    "1. Python\n",
    "2. R\n",
    "3. SQL\n",
    "4. Java"
   ]
  },
  {
   "cell_type": "markdown",
   "id": "bc1395ab",
   "metadata": {},
   "source": [
    "Some of the commonly used libraries used by Data Scientists include:\n",
    "\n",
    "1. NumPy\n",
    "2. Keras\n",
    "3. Pandas\n",
    "4. PyTorch\n",
    "5. SciPy\n",
    "6. Scikit-Learn\n",
    "7. TensorFlow\n",
    "8. Matplotlib\n"
   ]
  },
  {
   "cell_type": "markdown",
   "id": "39f49c0a",
   "metadata": {},
   "source": [
    "Development environment open source tools used in data science:\n",
    "\n",
    "|Data Science Tools|\n",
    "|------------------|\n",
    "|Rstudio|\n",
    "|Apache Spark|\n",
    "|Hadoop|"
   ]
  },
  {
   "cell_type": "markdown",
   "id": "89d38ae4",
   "metadata": {},
   "source": [
    "### Below are a few examples of evaluating arithmetic expressions in Python:"
   ]
  },
  {
   "cell_type": "code",
   "execution_count": 8,
   "id": "4718b7bc",
   "metadata": {},
   "outputs": [
    {
     "data": {
      "text/plain": [
       "17"
      ]
     },
     "execution_count": 8,
     "metadata": {},
     "output_type": "execute_result"
    }
   ],
   "source": [
    "(3*4)+5\n",
    "# This a simple arithmetic expression to mutiply then add integers"
   ]
  },
  {
   "cell_type": "code",
   "execution_count": 9,
   "id": "b1faec45",
   "metadata": {},
   "outputs": [
    {
     "name": "stdout",
     "output_type": "stream",
     "text": [
      "3.33 hours\n"
     ]
    }
   ],
   "source": [
    "mins = 200\n",
    "mins_in_hours = mins / 60\n",
    "print('%.2f' %mins_in_hours, 'hours')\n",
    "# This will convert 200 minutes to hours by diving by 60"
   ]
  },
  {
   "cell_type": "markdown",
   "id": "1431c05e",
   "metadata": {},
   "source": [
    "<b>Objectives:</b>\n",
    "\n",
    "<ul>\n",
    "    <li> Python</li>\n",
    "    <li> R</li>\n",
    "    <li> Java</li>\n",
    "    <li> JS</li>\n",
    "    <li> C/C++</li>\n",
    "    <li> SQL</li>\n",
    "    <li> Scala</li>   \n",
    "</ul>"
   ]
  },
  {
   "cell_type": "markdown",
   "id": "e36366f0",
   "metadata": {},
   "source": [
    "## Author \n",
    "Carlos H. Ramirez"
   ]
  },
  {
   "cell_type": "code",
   "execution_count": null,
   "id": "3f5d8c70",
   "metadata": {},
   "outputs": [],
   "source": []
  }
 ],
 "metadata": {
  "kernelspec": {
   "display_name": "Python 3 (ipykernel)",
   "language": "python",
   "name": "python3"
  },
  "language_info": {
   "codemirror_mode": {
    "name": "ipython",
    "version": 3
   },
   "file_extension": ".py",
   "mimetype": "text/x-python",
   "name": "python",
   "nbconvert_exporter": "python",
   "pygments_lexer": "ipython3",
   "version": "3.11.4"
  }
 },
 "nbformat": 4,
 "nbformat_minor": 5
}
